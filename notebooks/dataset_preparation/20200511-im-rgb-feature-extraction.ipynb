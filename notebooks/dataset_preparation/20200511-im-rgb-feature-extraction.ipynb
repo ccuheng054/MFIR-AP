{
 "cells": [
  {
   "cell_type": "code",
   "execution_count": 34,
   "metadata": {},
   "outputs": [],
   "source": [
    "import cv2\n",
    "import numpy as np\n",
    "from tensorflow.keras.applications.resnet50 import ResNet50\n",
    "from tensorflow.keras.layers import Flatten, Input\n",
    "from tensorflow.keras.models import Model\n",
    "\n",
    "img1 = cv2.imread(\"1.jpg\")\n",
    "img2 = cv2.imread(\"2.png\")\n",
    "SHAPE = [299, 299]\n",
    "img1, img2 = [cv2.resize(img, tuple(SHAPE)) for img in [img1, img2]]\n",
    "\n",
    "def standarize_RGB(rgb_sequence):\n",
    "    return (rgb_sequence - rgb_sequence.mean()) / rgb_sequence.std()\n",
    "\n",
    "base_model = ResNet50(weights='imagenet', pooling=max, include_top = False)\n",
    "img1, img2 = [standarize_RGB(img) for img in [img1, img2]]\n",
    "input = Input(shape=SHAPE+[3],name = 'image_input')\n",
    "x = base_model(input)\n",
    "x = Flatten()(x)\n",
    "feature_extractor = Model(inputs=input, outputs=x)\n",
    "imgs = np.stack([img1, img2])\n",
    "features=feature_extractor.predict(imgs)"
   ]
  },
  {
   "cell_type": "code",
   "execution_count": 35,
   "metadata": {},
   "outputs": [
    {
     "data": {
      "text/plain": [
       "(2, 204800)"
      ]
     },
     "execution_count": 35,
     "metadata": {},
     "output_type": "execute_result"
    }
   ],
   "source": [
    "features.shape"
   ]
  },
  {
   "cell_type": "code",
   "execution_count": 36,
   "metadata": {},
   "outputs": [
    {
     "data": {
      "text/plain": [
       "(2, 299, 299, 3)"
      ]
     },
     "execution_count": 36,
     "metadata": {},
     "output_type": "execute_result"
    }
   ],
   "source": [
    "imgs.shape"
   ]
  },
  {
   "cell_type": "code",
   "execution_count": null,
   "metadata": {},
   "outputs": [],
   "source": []
  }
 ],
 "metadata": {
  "kernelspec": {
   "display_name": "Python 3",
   "language": "python",
   "name": "python3"
  },
  "language_info": {
   "codemirror_mode": {
    "name": "ipython",
    "version": 3
   },
   "file_extension": ".py",
   "mimetype": "text/x-python",
   "name": "python",
   "nbconvert_exporter": "python",
   "pygments_lexer": "ipython3",
   "version": "3.6.9"
  }
 },
 "nbformat": 4,
 "nbformat_minor": 4
}
