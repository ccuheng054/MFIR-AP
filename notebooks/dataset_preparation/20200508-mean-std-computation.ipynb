{
 "cells": [
  {
   "cell_type": "code",
   "execution_count": 103,
   "metadata": {},
   "outputs": [
    {
     "name": "stdout",
     "output_type": "stream",
     "text": [
      "The memory_profiler extension is already loaded. To reload it, use:\n",
      "  %reload_ext memory_profiler\n"
     ]
    }
   ],
   "source": [
    "import numpy as np\n",
    "%load_ext memory_profiler\n",
    "\n",
    "def get_pos_neg_fp_lists(dataset_name):\n",
    "    pos_fp_list = glob.glob(os.path.join(\"..\", \"data\", \"02_intermediate\", dataset_name, \"*\", \"1\", \"*.npz\"))\n",
    "    neg_fp_list = glob.glob(os.path.join(\"..\", \"data\", \"02_intermediate\", dataset_name, \"*\", \"0\", \"*.npz\"))\n",
    "    return pos_fp_list, neg_fp_list\n",
    "\n",
    "def samples_from_fp_list(fp_list):\n",
    "    return [np.load(f) for f in fp_list]\n",
    "\n",
    "def read_tpa123_from_npz(npz_sample, dtype=np.float32):\n",
    "    ids = ('121', '122', '123')\n",
    "    return [np.expand_dims(npz_sample['array_ID{}'.format(id)],axis=-1).astype(dtype) for id in ids]\n",
    "\n",
    "DATASET_NAME = \"/media/igor/DATA/PIPELINE/20200508_aligned_labeled_npz_f100_fs0\"\n",
    "\n",
    "import glob\n",
    "import os\n",
    "\n",
    "from sys import getsizeof"
   ]
  },
  {
   "cell_type": "markdown",
   "metadata": {},
   "source": [
    "a is around 150 MB"
   ]
  },
  {
   "cell_type": "code",
   "execution_count": 31,
   "metadata": {},
   "outputs": [
    {
     "name": "stdout",
     "output_type": "stream",
     "text": [
      "peak memory: 369.00 MiB, increment: 304.57 MiB\n"
     ]
    }
   ],
   "source": [
    "%memit a = np.random.rand(int(20e6))"
   ]
  },
  {
   "cell_type": "code",
   "execution_count": 32,
   "metadata": {},
   "outputs": [],
   "source": [
    "a = np.random.rand(int(20e6)).reshape(-1,20,20)"
   ]
  },
  {
   "cell_type": "code",
   "execution_count": 33,
   "metadata": {},
   "outputs": [
    {
     "name": "stdout",
     "output_type": "stream",
     "text": [
      "peak memory: 359.48 MiB, increment: 142.46 MiB\n"
     ]
    }
   ],
   "source": [
    "%memit a.flatten()"
   ]
  },
  {
   "cell_type": "code",
   "execution_count": 34,
   "metadata": {},
   "outputs": [
    {
     "name": "stdout",
     "output_type": "stream",
     "text": [
      "peak memory: 217.05 MiB, increment: 0.00 MiB\n"
     ]
    }
   ],
   "source": [
    "%memit np.mean(a)"
   ]
  },
  {
   "cell_type": "code",
   "execution_count": 35,
   "metadata": {},
   "outputs": [
    {
     "name": "stdout",
     "output_type": "stream",
     "text": [
      "peak memory: 369.62 MiB, increment: 152.57 MiB\n"
     ]
    }
   ],
   "source": [
    "%memit np.std(a)"
   ]
  },
  {
   "cell_type": "code",
   "execution_count": 36,
   "metadata": {},
   "outputs": [
    {
     "name": "stdout",
     "output_type": "stream",
     "text": [
      "peak memory: 369.51 MiB, increment: 152.46 MiB\n"
     ]
    }
   ],
   "source": [
    "%%memit\n",
    "a = np.random.rand(int(20e6))\n",
    "std = a.std()\n",
    "mean = a.std()"
   ]
  },
  {
   "cell_type": "code",
   "execution_count": 37,
   "metadata": {},
   "outputs": [],
   "source": [
    "del(a, mean, std)"
   ]
  },
  {
   "cell_type": "code",
   "execution_count": 119,
   "metadata": {},
   "outputs": [
    {
     "name": "stdout",
     "output_type": "stream",
     "text": [
      "8837\n"
     ]
    }
   ],
   "source": [
    "import psutil\n",
    "mem = psutil.virtual_memory()\n",
    "available_MiB = mem.available >> 20\n",
    "print(available_MiB)"
   ]
  },
  {
   "cell_type": "code",
   "execution_count": 121,
   "metadata": {},
   "outputs": [
    {
     "name": "stdout",
     "output_type": "stream",
     "text": [
      "peak memory: 1618.85 MiB, increment: 1205.27 MiB\n"
     ]
    }
   ],
   "source": [
    "%%memit\n",
    "import psutil\n",
    "mem = psutil.virtual_memory()\n",
    "available_MiB = mem.available >> 20\n",
    "raw_data_limit_MiB = available_MiB//3\n",
    "\n",
    "pos_fp_list, neg_fp_list = get_pos_neg_fp_lists(DATASET_NAME)\n",
    "pos_samples = samples_from_fp_list(pos_fp_list)\n",
    "neg_samples = samples_from_fp_list(neg_fp_list)\n",
    "\n",
    "data = np.array([0], dtype=np.float16)\n",
    "for sample in pos_samples + neg_samples:\n",
    "    tpa1, tpa2, tpa3 = read_tpa123_from_npz(sample, dtype=np.float16)\n",
    "    tpas = np.concatenate([tpa1, tpa2, tpa3]).flatten()\n",
    "    data = np.append(data, tpas)\n",
    "    mem_used_MiB = (getsizeof(data) >> 20) * 2 # this will be in float32 later\n",
    "    if mem_used_MiB >= raw_data_limit_MiB:\n",
    "        break\n",
    "data = data.astype(np.float32)\n",
    "std = data.std()\n",
    "mean = data.mean()"
   ]
  },
  {
   "cell_type": "code",
   "execution_count": 116,
   "metadata": {},
   "outputs": [
    {
     "name": "stdout",
     "output_type": "stream",
     "text": [
      "3044\n"
     ]
    }
   ],
   "source": [
    "print(raw_data_limit_MiB)"
   ]
  },
  {
   "cell_type": "code",
   "execution_count": 117,
   "metadata": {},
   "outputs": [
    {
     "ename": "AttributeError",
     "evalue": "module 'os' has no attribute 'platform'",
     "output_type": "error",
     "traceback": [
      "\u001b[0;31m---------------------------------------------------------------------------\u001b[0m",
      "\u001b[0;31mAttributeError\u001b[0m                            Traceback (most recent call last)",
      "\u001b[0;32m<ipython-input-117-9ad2c0dc273f>\u001b[0m in \u001b[0;36m<module>\u001b[0;34m\u001b[0m\n\u001b[0;32m----> 1\u001b[0;31m \u001b[0mos\u001b[0m\u001b[0;34m.\u001b[0m\u001b[0mplatform\u001b[0m\u001b[0;34m(\u001b[0m\u001b[0;34m)\u001b[0m\u001b[0;34m\u001b[0m\u001b[0;34m\u001b[0m\u001b[0m\n\u001b[0m",
      "\u001b[0;31mAttributeError\u001b[0m: module 'os' has no attribute 'platform'"
     ]
    }
   ],
   "source": [
    "os.platform()"
   ]
  },
  {
   "cell_type": "code",
   "execution_count": null,
   "metadata": {},
   "outputs": [],
   "source": []
  }
 ],
 "metadata": {
  "kernelspec": {
   "display_name": "Python 3",
   "language": "python",
   "name": "python3"
  },
  "language_info": {
   "codemirror_mode": {
    "name": "ipython",
    "version": 3
   },
   "file_extension": ".py",
   "mimetype": "text/x-python",
   "name": "python",
   "nbconvert_exporter": "python",
   "pygments_lexer": "ipython3",
   "version": "3.6.9"
  }
 },
 "nbformat": 4,
 "nbformat_minor": 4
}
