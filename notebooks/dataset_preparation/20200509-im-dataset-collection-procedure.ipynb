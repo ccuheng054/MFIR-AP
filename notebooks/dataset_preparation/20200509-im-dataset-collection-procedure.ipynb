{
 "cells": [
  {
   "cell_type": "markdown",
   "metadata": {},
   "source": [
    "# Dataset collection procedure\n",
    "1. Prepare TPAs.\n",
    "* In .xsl: write date and time and corresponding data:\n",
    "    * subject!\n",
    "    * temperature\n",
    "    * humidity\n",
    "    * lighting conditions\n",
    "    * what the subject is wearing \n",
    "* Collect the recordings. Make sure that all views (121, 122, 123) are captured.\n",
    "    * Record at least 15 s before the onset and at least 15 s after the completion."
   ]
  },
  {
   "cell_type": "code",
   "execution_count": null,
   "metadata": {},
   "outputs": [],
   "source": []
  }
 ],
 "metadata": {
  "kernelspec": {
   "display_name": "Python 3",
   "language": "python",
   "name": "python3"
  },
  "language_info": {
   "codemirror_mode": {
    "name": "ipython",
    "version": 3
   },
   "file_extension": ".py",
   "mimetype": "text/x-python",
   "name": "python",
   "nbconvert_exporter": "python",
   "pygments_lexer": "ipython3",
   "version": "3.6.9"
  }
 },
 "nbformat": 4,
 "nbformat_minor": 4
}
